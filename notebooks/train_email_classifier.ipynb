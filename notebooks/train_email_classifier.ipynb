{
 "cells": [
  {
   "cell_type": "code",
   "execution_count": null,
   "id": "fa415713",
   "metadata": {},
   "outputs": [
    {
     "name": "stdout",
     "output_type": "stream",
     "text": [
      "                                          email_text category\n",
      "0        Hi, I’ve not received my salary this month.       HR\n",
      "1                        Hey, My printer is offline.       IT\n",
      "2  Hello, What’s the process to update emergency ...       HR\n",
      "3       Hello, The internet is extremely slow today.       IT\n",
      "4   Hello, What are the holiday dates for this year?       HR\n",
      "category\n",
      "HR       100\n",
      "IT       100\n",
      "Other    100\n",
      "Name: count, dtype: int64\n",
      "✅ Accuracy: 1.0000\n",
      "\n",
      "📄 Classification Report:\n",
      "\n",
      "              precision    recall  f1-score   support\n",
      "\n",
      "          HR       1.00      1.00      1.00        20\n",
      "          IT       1.00      1.00      1.00        20\n",
      "       Other       1.00      1.00      1.00        20\n",
      "\n",
      "    accuracy                           1.00        60\n",
      "   macro avg       1.00      1.00      1.00        60\n",
      "weighted avg       1.00      1.00      1.00        60\n",
      "\n"
     ]
    },
    {
     "data": {
      "image/png": "[encoded data removed]",
      "text/plain": [
       "<Figure size 600x400 with 2 Axes>"
      ]
     },
     "metadata": {},
     "output_type": "display_data"
    },
    {
     "name": "stdout",
     "output_type": "stream",
     "text": [
      "✅ Saved model and vectorizer!\n"
     ]
    }
   ],
   "source": [
    "# 1. Imports\n",
    "import pandas as pd\n",
    "import numpy as np\n",
    "import joblib\n",
    "import matplotlib.pyplot as plt\n",
    "import seaborn as sns\n",
    "\n",
    "from sklearn.model_selection import train_test_split\n",
    "from sklearn.feature_extraction.text import TfidfVectorizer\n",
    "from sklearn.linear_model import LogisticRegression\n",
    "from sklearn.metrics import (\n",
    "    accuracy_score,\n",
    "    classification_report,\n",
    "    confusion_matrix\n",
    ")\n",
    "\n",
    "\n",
    "\n",
    "# 3. Check class balance\n",
    "print(df['category'].value_counts())\n",
    "\n",
    "# 4. Split Dataset\n",
    "X_train, X_test, y_train, y_test = train_test_split(\n",
    "    df['email_text'], df['category'], test_size=0.2, random_state=42, stratify=df['category'])\n",
    "\n",
    "# 5. Vectorize Text\n",
    "vectorizer = TfidfVectorizer(stop_words='english', max_features=1000)\n",
    "X_train_vec = vectorizer.fit_transform(X_train)\n",
    "X_test_vec = vectorizer.transform(X_test)\n",
    "\n",
    "# 6. Train Logistic Regression\n",
    "model = LogisticRegression()\n",
    "model.fit(X_train_vec, y_train)\n",
    "\n",
    "# 7. Predict & Evaluate\n",
    "y_pred = model.predict(X_test_vec)\n",
    "\n",
    "accuracy = accuracy_score(y_test, y_pred)\n",
    "print(f\"✅ Accuracy: {accuracy:.4f}\")\n",
    "\n",
    "print(\"\\n📄 Classification Report:\\n\")\n",
    "print(classification_report(y_test, y_pred))\n",
    "\n",
    "# 8. Confusion Matrix\n",
    "cm = confusion_matrix(y_test, y_pred, labels=model.classes_)\n",
    "plt.figure(figsize=(6, 4))\n",
    "sns.heatmap(cm, annot=True, fmt='d', xticklabels=model.classes_, yticklabels=model.classes_, cmap=\"Blues\")\n",
    "plt.title(\"Confusion Matrix\")\n",
    "plt.xlabel(\"Predicted\")\n",
    "plt.ylabel(\"Actual\")\n",
    "plt.show()\n",
    "\n",
    "# 9. Save model & vectorizer\n",
    "joblib.dump(model, '../models/model.pkl')\n",
    "joblib.dump(vectorizer, '../models/vectorizer.pkl')\n",
    "print(\"✅ Saved model and vectorizer!\")\n"
   ]
  },
  {
   "cell_type": "code",
   "execution_count": null,
   "id": "cf7ad0ea",
   "metadata": {},
   "outputs": [],
   "source": [
    "# 2. Load Dataset\n",
    "df = pd.read_csv('../data/emails.csv')\n",
    "print(df.head())"
   ]
  },
  {
   "cell_type": "code",
   "execution_count": null,
   "id": "ae8f2322",
   "metadata": {},
   "outputs": [],
   "source": [
    "# 3. Check class balance\n",
    "print(df['category'].value_counts())\n",
    "\n"
   ]
  },
  {
   "cell_type": "code",
   "execution_count": null,
   "id": "cc0650ed",
   "metadata": {},
   "outputs": [],
   "source": [
    "# 4. Split Dataset\n",
    "X_train, X_test, y_train, y_test = train_test_split(\n",
    "    df['email_text'], df['category'], test_size=0.2, random_state=42, stratify=df['category'])\n",
    "\n",
    "\n"
   ]
  },
  {
   "cell_type": "code",
   "execution_count": null,
   "id": "1b9aee53",
   "metadata": {},
   "outputs": [],
   "source": [
    "# 5. Vectorize Text\n",
    "vectorizer = TfidfVectorizer(stop_words='english', max_features=1000)\n",
    "X_train_vec = vectorizer.fit_transform(X_train)\n",
    "X_test_vec = vectorizer.transform(X_test)\n",
    "\n"
   ]
  },
  {
   "cell_type": "code",
   "execution_count": null,
   "id": "255ee422",
   "metadata": {},
   "outputs": [],
   "source": [
    "# 6. Train Logistic Regression\n",
    "model = LogisticRegression()\n",
    "model.fit(X_train_vec, y_train)\n",
    "\n"
   ]
  },
  {
   "cell_type": "code",
   "execution_count": null,
   "id": "cd6f8c60",
   "metadata": {},
   "outputs": [],
   "source": [
    "# 7. Predict & Evaluate\n",
    "y_pred = model.predict(X_test_vec)\n",
    "\n",
    "accuracy = accuracy_score(y_test, y_pred)\n",
    "print(f\"✅ Accuracy: {accuracy:.4f}\")\n",
    "\n",
    "print(\"\\n📄 Classification Report:\\n\")\n",
    "print(classification_report(y_test, y_pred))\n",
    "\n"
   ]
  },
  {
   "cell_type": "code",
   "execution_count": null,
   "id": "cd9f1f06",
   "metadata": {},
   "outputs": [],
   "source": [
    "# 8. Confusion Matrix\n",
    "cm = confusion_matrix(y_test, y_pred, labels=model.classes_)\n",
    "plt.figure(figsize=(6, 4))\n",
    "sns.heatmap(cm, annot=True, fmt='d', xticklabels=model.classes_, yticklabels=model.classes_, cmap=\"Blues\")\n",
    "plt.title(\"Confusion Matrix\")\n",
    "plt.xlabel(\"Predicted\")\n",
    "plt.ylabel(\"Actual\")\n",
    "plt.show()\n",
    "\n"
   ]
  },
  {
   "cell_type": "code",
   "execution_count": null,
   "id": "43a3cfc0",
   "metadata": {},
   "outputs": [],
   "source": [
    "# 9. Save model & vectorizer\n",
    "joblib.dump(model, '../models/model.pkl')\n",
    "joblib.dump(vectorizer, '../models/vectorizer.pkl')\n",
    "print(\"✅ Saved model and vectorizer!\")"
   ]
  },
  {
   "cell_type": "code",
   "execution_count": null,
   "id": "3ce0c115",
   "metadata": {},
   "outputs": [],
   "source": []
  },
  {
   "cell_type": "code",
   "execution_count": null,
   "id": "0aa75437",
   "metadata": {},
   "outputs": [],
   "source": []
  },
  {
   "cell_type": "code",
   "execution_count": null,
   "id": "489b2879",
   "metadata": {},
   "outputs": [],
   "source": []
  }
 ],
 "metadata": {
  "kernelspec": {
   "display_name": "Python 3",
   "language": "python",
   "name": "python3"
  },
  "language_info": {
   "codemirror_mode": {
    "name": "ipython",
    "version": 3
   },
   "file_extension": ".py",
   "mimetype": "text/x-python",
   "name": "python",
   "nbconvert_exporter": "python",
   "pygments_lexer": "ipython3",
   "version": "3.10.9"
  }
 },
 "nbformat": 4,
 "nbformat_minor": 5
}
